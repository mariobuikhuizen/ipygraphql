{
 "cells": [
  {
   "cell_type": "code",
   "execution_count": null,
   "metadata": {},
   "outputs": [],
   "source": [
    "import ipywidgets as w\n",
    "import ipygraphql as g"
   ]
  },
  {
   "cell_type": "code",
   "execution_count": null,
   "metadata": {
    "scrolled": false
   },
   "outputs": [],
   "source": [
    "query = '''\n",
    "query getSingleFilm($title: String!){\n",
    "  Film(title:$title) {\n",
    "    director\n",
    "    characters {\n",
    "      name\n",
    "    }\n",
    "  }\n",
    "}\n",
    "'''\n",
    "\n",
    "variables={'title': 'the empire strikes back'}\n",
    "\n",
    "ql = g.GraphiQL(\n",
    "    url='https://swapi.graph.cool',\n",
    "     query=query,\n",
    "    variables=variables,\n",
    "    response='')  \n",
    "ql"
   ]
  },
  {
   "cell_type": "markdown",
   "metadata": {},
   "source": [
    "## Keyboard shortcuts:\n",
    "\n",
    "* Prettify Query:  Shift-Ctrl-P (or press the prettify button above)\n",
    "\n",
    "* Run Query:  Ctrl-Enter (or press the play button above)\n",
    "\n",
    "* Auto Complete:  Ctrl-Space (or just start typing)"
   ]
  },
  {
   "cell_type": "code",
   "execution_count": null,
   "metadata": {},
   "outputs": [],
   "source": [
    "q2 = g.GraphiQL(\n",
    "    handler=g.FrontendHttpHandler(url='https://swapi.graph.cool'),\n",
    "    query=query,\n",
    "    variables=variables,\n",
    "    response='')  \n",
    "q2"
   ]
  },
  {
   "cell_type": "code",
   "execution_count": null,
   "metadata": {
    "scrolled": false
   },
   "outputs": [],
   "source": [
    "#!pip install vaex-graphql vaex-hdf5\n",
    "import vaex\n",
    "df = vaex.example()\n",
    "df.graphql.execute('''\n",
    "query {\n",
    "    df\n",
    "}\n",
    "''').errors\n",
    "\n",
    "handler = g.BackendHandler(timeout=30000)\n",
    "\n",
    "\n",
    "def handleRequest(change):\n",
    "    result = df.graphql.execute(change['new']['query'])\n",
    "    if result.errors:\n",
    "        print(f'{[e.message for e in result.errors]}')\n",
    "    \n",
    "    resp = {\n",
    "        'data': result.data,\n",
    "    }\n",
    "    if result.errors:\n",
    "        resp['errors'] = [{'message': e.message} for e in result.errors]\n",
    "        \n",
    "    handler.response = resp\n",
    "\n",
    "handler.observe(handleRequest, 'request')\n",
    "\n",
    "vaex_query = '''\n",
    "query { \n",
    "  df { \n",
    "    min\n",
    "    max\n",
    "    count\n",
    "  }\n",
    "}\n",
    "'''\n",
    "\n",
    "q3 = g.GraphiQL(\n",
    "    handler=handler,\n",
    "    query=vaex_query,\n",
    "    variables=None,\n",
    "    response='')  \n",
    "q3"
   ]
  },
  {
   "cell_type": "code",
   "execution_count": null,
   "metadata": {},
   "outputs": [],
   "source": []
  }
 ],
 "metadata": {
  "kernelspec": {
   "display_name": "Python 3",
   "language": "python",
   "name": "python3"
  },
  "language_info": {
   "codemirror_mode": {
    "name": "ipython",
    "version": 3
   },
   "file_extension": ".py",
   "mimetype": "text/x-python",
   "name": "python",
   "nbconvert_exporter": "python",
   "pygments_lexer": "ipython3",
   "version": "3.7.3"
  }
 },
 "nbformat": 4,
 "nbformat_minor": 4
}
