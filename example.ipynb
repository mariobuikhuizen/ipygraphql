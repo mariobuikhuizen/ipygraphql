{
 "cells": [
  {
   "cell_type": "code",
   "execution_count": null,
   "metadata": {},
   "outputs": [],
   "source": [
    "import ipygraphql as graphql"
   ]
  },
  {
   "cell_type": "code",
   "execution_count": null,
   "metadata": {
    "scrolled": false
   },
   "outputs": [],
   "source": [
    "query = '''\n",
    "query getSingleFilm($title: String!){\n",
    "  Film(title:$title) {\n",
    "    director\n",
    "    characters {\n",
    "      name\n",
    "    }\n",
    "  }\n",
    "}\n",
    "'''\n",
    "\n",
    "variables={'title': 'the empire strikes back'}\n",
    "\n",
    "graphiql = graphql.GraphiQL(\n",
    "    url='https://swapi.graph.cool',\n",
    "     query=query,\n",
    "    variables=variables)  \n",
    "graphiql"
   ]
  },
  {
   "cell_type": "markdown",
   "metadata": {},
   "source": [
    "## Keyboard shortcuts:\n",
    "\n",
    "* Prettify Query:  Shift-Ctrl-P (or press the prettify button above)\n",
    "\n",
    "* Run Query:  Ctrl-Enter (or press the play button above)\n",
    "\n",
    "* Auto Complete:  Ctrl-Space (or just start typing)"
   ]
  },
  {
   "cell_type": "code",
   "execution_count": null,
   "metadata": {},
   "outputs": [],
   "source": [
    "graphiql_2 = graphql.GraphiQL(\n",
    "    handler=graphql.FrontendHttpHandler(url='https://swapi.graph.cool'),\n",
    "    query=query,\n",
    "    variables=variables)  \n",
    "graphiql_2"
   ]
  },
  {
   "cell_type": "code",
   "execution_count": null,
   "metadata": {
    "scrolled": false
   },
   "outputs": [],
   "source": [
    "#!pip install vaex-graphql vaex-hdf5\n",
    "import vaex\n",
    "df = vaex.example()\n",
    "df.graphql.execute('''\n",
    "query {\n",
    "    df\n",
    "}\n",
    "''').errors\n",
    "\n",
    "class VaexHandler(graphql.BackendHandler):\n",
    "    def handle(self, request):\n",
    "        result = df.graphql.execute(request['query'])\n",
    "        response = {\n",
    "            'data': result.data\n",
    "        }\n",
    "        if result.errors:\n",
    "            response['errors'] = [{'message': e.message} for e in result.errors]\n",
    "\n",
    "        return response\n",
    "\n",
    "vaex_handler = VaexHandler(timeout=10000)\n",
    "\n",
    "vaex_query = '''\n",
    "query { \n",
    "  df { \n",
    "    min\n",
    "    max\n",
    "    count\n",
    "  }\n",
    "}\n",
    "'''\n",
    "\n",
    "graphiql_vaex = graphql.GraphiQL(\n",
    "    handler=vaex_handler,\n",
    "    query=vaex_query,\n",
    "    variables=None)  \n",
    "graphiql_vaex"
   ]
  },
  {
   "cell_type": "code",
   "execution_count": null,
   "metadata": {},
   "outputs": [],
   "source": []
  }
 ],
 "metadata": {
  "kernelspec": {
   "display_name": "Python 3",
   "language": "python",
   "name": "python3"
  },
  "language_info": {
   "codemirror_mode": {
    "name": "ipython",
    "version": 3
   },
   "file_extension": ".py",
   "mimetype": "text/x-python",
   "name": "python",
   "nbconvert_exporter": "python",
   "pygments_lexer": "ipython3",
   "version": "3.7.3"
  }
 },
 "nbformat": 4,
 "nbformat_minor": 4
}
